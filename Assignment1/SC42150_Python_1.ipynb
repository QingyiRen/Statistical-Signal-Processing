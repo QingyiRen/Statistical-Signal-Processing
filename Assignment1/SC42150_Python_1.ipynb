{
 "cells": [
  {
   "cell_type": "markdown",
   "metadata": {},
   "source": [
    "# SC42150 - Statistical Signal Processing\n",
    "## Python Assignment I: Stock Market Analysis"
   ]
  },
  {
   "cell_type": "markdown",
   "metadata": {},
   "source": [
    "#### Team members\n",
    "\n",
    "- Name (student number):\n",
    "- Name (student number):\n",
    "\n",
    "---"
   ]
  },
  {
   "cell_type": "markdown",
   "metadata": {},
   "source": [
    "## Introduction\n",
    "\n",
    "The goal of this assignment is to help you get a more practical understanding of some of the concepts of Statistical Signal Processing. Specifically, you will work with stochastic processes and determine their moments, stationarity and ergodicity properties, and also try to detrend the data.\n",
    "\n",
    "In order to achieve those objectives, you will use the Python programming language, and specifically the modules numpy, scipy (for numerical processing) and matplotlib (for plotting). In case you are completely unfamiliar with Python, you should learn the basics before attempting this exercise. You are allowed to use numpy's implementations of common routines, such as mean or cov amongst other, but if you do so make sure you have read the documentation and are sure that they accomplish exactly what is taught in the lecture notes, as sometimes there are small differences in definitions and implementations. \n",
    "\n",
    "Finally, you are also going to use the Jupyter Notebook file format, which might require installing some dependencies on your system. You can find instructions on installing Jupyter [here](https://jupyter.org/install).\n",
    "\n",
    "## Reporting\n",
    "\n",
    "The report of this python exercise consists of this Jupyter Notebook file, with your answers added after each question. Answers will consist of code and/or text (markdown) cells. Please use the already indicated cells and format. You will **also** need to deliver a `PDF` version of this file.\n",
    "\n",
    "In order to create a PDF version of this file, go to the top left, click on `File` then `Export Notebook As` and Choose `PDF`.\n",
    "If this feature is not supported by your system, you can also choose `LaTeX`.\n",
    "Then, you can use your preferred `LaTeX` compiler to create the `PDF`. After generation you PDF report, please double check if all answers/plots are correctly displayed.\n",
    "\n",
    "Moreover, you will also need to send the `.npy` file with the signals used in this exercise. Don't forget to edit your team member's name and student number above. You will submit one Jupyter notebook per team."
   ]
  },
  {
   "cell_type": "markdown",
   "metadata": {},
   "source": [
    "## Stock market analysis\n",
    "\n",
    "Lately you've been fascinated by the world of trading so you decided to learn more about it and see if you can learn any good strategies by examining the trading data and looking for patterns.\n",
    "\n",
    "You are given a `.npy` file containing historical price data of various stocks. We will make the assumption that all the timeseries are just different realizations of the same stochastic process.\n",
    "\n",
    "You will need to conduct the following steps to complete your investigation, each of which is worth 1 point:\n",
    "\n",
    "**1. (2 points)** Import the `.npy` file provided using `np.load()` as indicated below. You should now have access to a $N\\times K$ array, containing $K$ timeseries of historical price data of various stocks, each of length $N$. Plot the first one and also, in a new figure, plot the first 100 of them together."
   ]
  },
  {
   "cell_type": "code",
   "execution_count": 1,
   "metadata": {},
   "outputs": [],
   "source": [
    "import numpy as np\n",
    "import matplotlib.pyplot as plt\n",
    "from scipy.stats import multivariate_normal\n",
    "\n",
    "data = np.load('data2022.npz')\n",
    "S =  data['S']\n",
    "t =  data['t']"
   ]
  },
  {
   "cell_type": "markdown",
   "metadata": {},
   "source": [
    "We will denote the generating stochastic process with $S_{n}\\sim f_{S_{n}}$, where $n=t\\Delta t$ refers to the time index. Further, we will denote its $k$-th realization with $S_{n}^{k}$.\n",
    "\n",
    "**2. (5 points)** Compute the ensemble mean and variance and plot each one."
   ]
  },
  {
   "cell_type": "code",
   "execution_count": null,
   "metadata": {},
   "outputs": [],
   "source": []
  },
  {
   "cell_type": "markdown",
   "metadata": {},
   "source": [
    "**3. (10 points)** Compute the correlation matrix $R_{S}$ and visualize it using the `plt.matshow()` command. What can you deduce from that plot?"
   ]
  },
  {
   "cell_type": "code",
   "execution_count": null,
   "metadata": {},
   "outputs": [],
   "source": []
  },
  {
   "cell_type": "markdown",
   "metadata": {},
   "source": [
    "> Enter answer here."
   ]
  },
  {
   "cell_type": "markdown",
   "metadata": {},
   "source": [
    "**4. (10 points)** Can you determine whether the process $S_{n}$ is WSS or not? Explain why."
   ]
  },
  {
   "cell_type": "markdown",
   "metadata": {},
   "source": [
    "> Enter answer here."
   ]
  },
  {
   "cell_type": "markdown",
   "metadata": {},
   "source": [
    "\n",
    "A friend of yours who has been into trading for some time now, briefly looks at the data and tells you that the stock price changes can be explained by asset model like the following:\n",
    "$$\n",
    "    S_{n+1}=S_{n}e^{(\\mu-0.5\\sigma^{2})\\Delta t+\\sigma\\sqrt{\\Delta t}Z_{n}},\\quad Z_{n}\\sim\\mathcal{N}(0,1)\n",
    "    \\label{asset_model} \\tag{1}\n",
    "$$\n",
    "However, you have no idea what this model represents and what values the parameters $\\mu$ and $\\sigma$ should take. By inspecting the data you can at least infer that $\\Delta t=0.1$ time units, so that's a start.\n",
    "\n",
    "In your efforts to make sense of ([1](#mjx-eqn-asset_model)), you notice that if you divide $S_{n+1}$ by $S_{n}$ and then take the logarithm you end up with\n",
    "\n",
    "$$\n",
    "    \\log \\left( \\frac{S_{n+1}}{S_{n}} \\right) = (\\mu-0.5\\sigma^{2})\\Delta t+\\sigma\\sqrt{\\Delta t}Z_{t}\n",
    "    \\label{tf_asset_model} \\tag{2}\n",
    "$$\n",
    "\n",
    "This looks promising so you decide to try this transformation on the data you have.\n",
    "\n",
    "**5. (3 points)** Apply the transformation $X_{n+1}=\\log\\left(S_{n+1}/S_{n}\\right)$ to your data. Is the resulting system BIBO stable?"
   ]
  },
  {
   "cell_type": "code",
   "execution_count": null,
   "metadata": {},
   "outputs": [],
   "source": []
  },
  {
   "cell_type": "markdown",
   "metadata": {},
   "source": [
    "> Enter answer here."
   ]
  },
  {
   "cell_type": "markdown",
   "metadata": {},
   "source": [
    "**6. (10 points)** Compute and plot the ensemble average and variance for $X_{n}$. Next, compute and plot the time average and variance for a single realization of $X_{n}$, e.g. for $k=1$. Based on the results, what can you say about the ergodicity and stationarity of $X_{n}$?"
   ]
  },
  {
   "cell_type": "code",
   "execution_count": null,
   "metadata": {},
   "outputs": [],
   "source": []
  },
  {
   "cell_type": "markdown",
   "metadata": {},
   "source": [
    "> Enter answer here."
   ]
  },
  {
   "cell_type": "markdown",
   "metadata": {},
   "source": [
    "**7. (10 points)** Compute the correlation matrix $R_{X}$ and visualize it using the `plt.matshow()` command.\n",
    "\n",
    "   Can you determine whether the process $X_{n}$ is WSS? If so, what are its first moments, i.e. mean and variance? \n",
    "\n",
    "   Express $\\mathbb{E}(X)$ and $\\mathrm{Var}(X)$ analitically in terms of $\\mu$, $\\sigma$ and $\\Delta t$."
   ]
  },
  {
   "cell_type": "code",
   "execution_count": null,
   "metadata": {},
   "outputs": [],
   "source": []
  },
  {
   "cell_type": "markdown",
   "metadata": {},
   "source": [
    "> Enter answer here."
   ]
  },
  {
   "cell_type": "markdown",
   "metadata": {},
   "source": [
    "**8. (10 points)** Choose one of the transformed timeseries $X_{n}$, compute its auto-correlation function $r_{x}({k})$ and visualize it. Verify whether **Properties 5.8 - 5.10** apply to this process.\n",
    "\n",
    "**Note:** if the signal $x(n)$ is auto-correlation ergodic,\n",
    "the auto-correlation function $r_x(k)$ can be estimated as\n",
    "(if we have only values $x_1, x_2, \\dots, x_N$):\n",
    "\n",
    "$$\n",
    "    r_x(k) = \\frac{1}{N-k} \\sum_{i=k+1}^{N} x(i) x^*(i-k)\n",
    "$$\n",
    "\n",
    "You may also use Numpy's built in functions such as numpy.correlate(), though you should be careful to read the documentation beforehand.\n",
    "\n",
    "**Note:** if you are unfamiliar with python, take care when copying `np.arrays`. Read more [here](https://numpy.org/doc/stable/reference/generated/numpy.copy.html)."
   ]
  },
  {
   "cell_type": "code",
   "execution_count": null,
   "metadata": {},
   "outputs": [],
   "source": []
  },
  {
   "cell_type": "markdown",
   "metadata": {},
   "source": [
    "> Enter answer here."
   ]
  },
  {
   "cell_type": "markdown",
   "metadata": {},
   "source": [
    "**9. (10 points)** Calculate the Periodogram for the timeseries selected above. How does the Power Spectrum relate to the Autocorrelation function plotted above? \n",
    "\n",
    "Can you show that the total power of the signal is equal to the $r_x(0)$ value computed above? (**Note:** the value may not be precisely equal because you are using limited data sets and samples)\n",
    "\n",
    "**Hint:** be careful with the indexing. You can use *numpy.fft.fft()* and *numpy.fft.fftfreq()* functions.\n",
    "\n",
    "**Hint 2:** the resulting periodogram may not be represented in $\\mathrm{rad/sample}$, but rather in $\\mathrm{cycles/unit\\ time}$. Be careful with the representation of your periodogram when calculating its integral / sum."
   ]
  },
  {
   "cell_type": "code",
   "execution_count": null,
   "metadata": {},
   "outputs": [],
   "source": []
  },
  {
   "cell_type": "markdown",
   "metadata": {},
   "source": [
    "According to ([2](#mjx-eqn-tf_asset_model)), $X_{t}$ should be Gaussian White Noise since $Z_{t}$ is a Gaussian ZMWN. However, since you are only given data, it's good that you verify this. Remember that a stochastic process is Gaussian if the joint distribution of any combination of elements of $X_n$ is Gaussian. For now we will just take two random time instances to verify this, but feel free to try other combinations as well.\n",
    "\n",
    "**10. (5 points)** Take two time instances of $X_{n}$, e.g. for $n=\\{30,70\\}$, and plot their 2d histogram across $K$ realizations $\\{X_{n}^{k}\\}_{k=1}^{K}$ by using $\\sqrt{K}$ bins. Can you adequately fit a multivariate normal distribution on this histogram?\n",
    "\n",
    "**Hint:** You may want to look into multivariate_normal.pdf() to help plot the levels of fitting distribution in 2D. To plot the experimental values, you may use plt.hist2d()."
   ]
  },
  {
   "cell_type": "code",
   "execution_count": null,
   "metadata": {},
   "outputs": [],
   "source": []
  },
  {
   "cell_type": "markdown",
   "metadata": {},
   "source": [
    "**11. (5 points)** Now verify that the marginals of the above distribution are also Gaussians, that is take the (1d) histograms of the above time instances (with $\\sqrt{K}$ bins), plot them, and also fit the correspoding PDFs on top.\n",
    "\n",
    "**Hint:** Similarly to question 10, you may want to look into multivariate_normal.pdf() to help plot the levels of fitting distribution in 2D. To plot the experimental values, you may use plt.hist2d()."
   ]
  },
  {
   "cell_type": "code",
   "execution_count": null,
   "metadata": {},
   "outputs": [],
   "source": []
  },
  {
   "cell_type": "markdown",
   "metadata": {},
   "source": [
    "\n",
    "From ([1](#mjx-eqn-asset_model)), it follows that the first two statistical moments can be computed analytically:\n",
    "\\begin{align}\n",
    "    \\mathbb{E}\\left[S_{n}\\right] &= S_{0}e^{\\mu n\\Delta t} \\label{asset_mean} \\tag{3}\\\\\n",
    "    \\text{Var}\\left[S_{n}\\right] &= S_{0}^{2}e^{2\\mu n\\Delta t}\\left(e^{\\sigma^{2}n\\Delta t}-1\\right) \\label{asset_var} \\tag{4}\n",
    "\\end{align}\n",
    "Having computed the ensemble mean and variance of $X_{n}$ you should be able to determine estimates for the values of $\\mu$ and $\\sigma$.\n",
    "\n",
    "**12. (10 points)** Using the results from Question 7, compute estimates for $\\mu$ and $\\sigma$. Use those estimates to calculate the moments ([3](#mjx-eqn-asset_mean))-([4](#mjx-eqn-asset_var)) and plot those along with the ensemble moments of $S_{n}$ of Question 2."
   ]
  },
  {
   "cell_type": "code",
   "execution_count": null,
   "metadata": {},
   "outputs": [],
   "source": []
  },
  {
   "cell_type": "markdown",
   "metadata": {},
   "source": [
    "**13. (10 points)** Having done all the above, you should now be in a position where you can discuss whether the model your friend suggested was good enough to describe the data."
   ]
  },
  {
   "cell_type": "markdown",
   "metadata": {},
   "source": [
    "> Enter answer here."
   ]
  }
 ],
 "metadata": {
  "interpreter": {
   "hash": "767d51c1340bd893661ea55ea3124f6de3c7a262a8b4abca0554b478b1e2ff90"
  },
  "kernelspec": {
   "display_name": "Python 3 (ipykernel)",
   "language": "python",
   "name": "python3"
  },
  "language_info": {
   "codemirror_mode": {
    "name": "ipython",
    "version": 3
   },
   "file_extension": ".py",
   "mimetype": "text/x-python",
   "name": "python",
   "nbconvert_exporter": "python",
   "pygments_lexer": "ipython3",
   "version": "3.9.7"
  },
  "toc-autonumbering": false,
  "toc-showtags": false
 },
 "nbformat": 4,
 "nbformat_minor": 4
}
